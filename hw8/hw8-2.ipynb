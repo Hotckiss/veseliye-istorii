{
  "nbformat": 4,
  "nbformat_minor": 0,
  "metadata": {
    "colab": {
      "name": "hw8.ipynb",
      "provenance": [],
      "collapsed_sections": []
    },
    "kernelspec": {
      "name": "python3",
      "display_name": "Python 3"
    },
    "language_info": {
      "name": "python"
    }
  },
  "cells": [
    {
      "cell_type": "code",
      "metadata": {
        "id": "mY8DM-8qn3HZ"
      },
      "source": [
        "import pandas as pd\n",
        "import numpy as np\n",
        "df = pd.read_json('pycharm_issues.json', lines=True)"
      ],
      "execution_count": 7,
      "outputs": []
    },
    {
      "cell_type": "code",
      "metadata": {
        "colab": {
          "base_uri": "https://localhost:8080/"
        },
        "id": "2inaLurjNq21",
        "outputId": "035920ed-228a-4aad-8147-d58d6e12639c"
      },
      "source": [
        "# чуть-чуть глянем на содержимое\n",
        "# какие версии есть в наличии, надо удалить все, что раньше 2020.2\n",
        "versions = set()\n",
        "for v in list(df['Affected versions']):\n",
        "    for vv in v:\n",
        "        versions.add(vv)\n",
        "versions"
      ],
      "execution_count": 8,
      "outputs": [
        {
          "output_type": "execute_result",
          "data": {
            "text/plain": [
              "{'2016.1',\n",
              " '2016.2',\n",
              " '2016.3',\n",
              " '2017.1',\n",
              " '2017.2',\n",
              " '2017.3',\n",
              " '2018.1',\n",
              " '2018.2',\n",
              " '2018.3',\n",
              " '2019.1',\n",
              " '2019.2',\n",
              " '2019.3',\n",
              " '2020.1',\n",
              " '2020.2',\n",
              " '2020.3',\n",
              " '2021.1',\n",
              " '2021.2',\n",
              " '2021.3'}"
            ]
          },
          "metadata": {},
          "execution_count": 8
        }
      ]
    },
    {
      "cell_type": "code",
      "metadata": {
        "id": "uHfYypsko_s8"
      },
      "source": [
        "# select only versions after 2020.2\n",
        "df = df[df[\"Affected versions\"].apply(lambda v: any(x >= \"2020.2\" for x in v))]"
      ],
      "execution_count": 9,
      "outputs": []
    },
    {
      "cell_type": "code",
      "metadata": {
        "id": "kYZpuF9Ytfve"
      },
      "source": [
        "# Заново переформируем индексы\n",
        "df = df.reset_index()"
      ],
      "execution_count": 10,
      "outputs": []
    },
    {
      "cell_type": "code",
      "metadata": {
        "colab": {
          "base_uri": "https://localhost:8080/",
          "height": 419
        },
        "id": "X4NBQEfbtiAL",
        "outputId": "86d66b93-bd88-4b16-8c55-d641aadb05a2"
      },
      "source": [
        "df"
      ],
      "execution_count": 11,
      "outputs": [
        {
          "output_type": "execute_result",
          "data": {
            "text/html": [
              "<div>\n",
              "<style scoped>\n",
              "    .dataframe tbody tr th:only-of-type {\n",
              "        vertical-align: middle;\n",
              "    }\n",
              "\n",
              "    .dataframe tbody tr th {\n",
              "        vertical-align: top;\n",
              "    }\n",
              "\n",
              "    .dataframe thead th {\n",
              "        text-align: right;\n",
              "    }\n",
              "</style>\n",
              "<table border=\"1\" class=\"dataframe\">\n",
              "  <thead>\n",
              "    <tr style=\"text-align: right;\">\n",
              "      <th></th>\n",
              "      <th>index</th>\n",
              "      <th>idReadable</th>\n",
              "      <th>created</th>\n",
              "      <th>summary</th>\n",
              "      <th>description</th>\n",
              "      <th>Affected versions</th>\n",
              "    </tr>\n",
              "  </thead>\n",
              "  <tbody>\n",
              "    <tr>\n",
              "      <th>0</th>\n",
              "      <td>45</td>\n",
              "      <td>PY-22211</td>\n",
              "      <td>1484097590051</td>\n",
              "      <td>Running subprocesses with Popen inside unittes...</td>\n",
              "      <td>I have the following unittest:\\n\\n```\\nclass M...</td>\n",
              "      <td>[2020.3]</td>\n",
              "    </tr>\n",
              "    <tr>\n",
              "      <th>1</th>\n",
              "      <td>67</td>\n",
              "      <td>PY-22248</td>\n",
              "      <td>1484322653638</td>\n",
              "      <td>Full project optimize imports alters library f...</td>\n",
              "      <td>Reported by: @matheusbrat on Twitter: https://...</td>\n",
              "      <td>[2020.2]</td>\n",
              "    </tr>\n",
              "    <tr>\n",
              "      <th>2</th>\n",
              "      <td>178</td>\n",
              "      <td>PY-22369</td>\n",
              "      <td>1485334537463</td>\n",
              "      <td>DataFrame auto-update doesn't work with action...</td>\n",
              "      <td>Consider this example:\\n\\n```python\\nimport pa...</td>\n",
              "      <td>[2021.1]</td>\n",
              "    </tr>\n",
              "    <tr>\n",
              "      <th>3</th>\n",
              "      <td>266</td>\n",
              "      <td>PY-22469</td>\n",
              "      <td>1485863013851</td>\n",
              "      <td>PowerShell prompt doesn't show virtualenv</td>\n",
              "      <td>Although the virtualenv seems activated, the p...</td>\n",
              "      <td>[2021.1]</td>\n",
              "    </tr>\n",
              "    <tr>\n",
              "      <th>4</th>\n",
              "      <td>730</td>\n",
              "      <td>PY-23007</td>\n",
              "      <td>1488923938785</td>\n",
              "      <td>Project requirements are not detected from set...</td>\n",
              "      <td>Since setuptools 30.3.0 it's possible to speci...</td>\n",
              "      <td>[2020.3]</td>\n",
              "    </tr>\n",
              "    <tr>\n",
              "      <th>...</th>\n",
              "      <td>...</td>\n",
              "      <td>...</td>\n",
              "      <td>...</td>\n",
              "      <td>...</td>\n",
              "      <td>...</td>\n",
              "      <td>...</td>\n",
              "    </tr>\n",
              "    <tr>\n",
              "      <th>2291</th>\n",
              "      <td>21992</td>\n",
              "      <td>PY-51608</td>\n",
              "      <td>1636987696450</td>\n",
              "      <td>Breakpoints not always hit in multi-threaded app</td>\n",
              "      <td># Steps to Reproduce\\n\\nCreate a project using...</td>\n",
              "      <td>[2021.2]</td>\n",
              "    </tr>\n",
              "    <tr>\n",
              "      <th>2292</th>\n",
              "      <td>21994</td>\n",
              "      <td>PY-51621</td>\n",
              "      <td>1637063283050</td>\n",
              "      <td>code insighte: Quick solution (+error) instead...</td>\n",
              "      <td>Hi,\\n**What I do:**\\nI open huge JSON file (ab...</td>\n",
              "      <td>[2021.2]</td>\n",
              "    </tr>\n",
              "    <tr>\n",
              "      <th>2293</th>\n",
              "      <td>22000</td>\n",
              "      <td>PY-51614</td>\n",
              "      <td>1637012454711</td>\n",
              "      <td>IDE keeps disabling Python plugin, I get and e...</td>\n",
              "      <td>Here is the job log.\\n\\nI am unable to use the...</td>\n",
              "      <td>[2021.2]</td>\n",
              "    </tr>\n",
              "    <tr>\n",
              "      <th>2294</th>\n",
              "      <td>22008</td>\n",
              "      <td>PY-51605</td>\n",
              "      <td>1636977168955</td>\n",
              "      <td>Better \"Invalid Python SDK\" handling</td>\n",
              "      <td>Quite often OS (usually macOS) or Python updat...</td>\n",
              "      <td>[2021.2]</td>\n",
              "    </tr>\n",
              "    <tr>\n",
              "      <th>2295</th>\n",
              "      <td>22012</td>\n",
              "      <td>PY-51595</td>\n",
              "      <td>1636912616563</td>\n",
              "      <td>Warn on invalid iterable unpack</td>\n",
              "      <td>```python\\nimport time\\n\\ndef foo() -&gt; float:\\...</td>\n",
              "      <td>[2021.2]</td>\n",
              "    </tr>\n",
              "  </tbody>\n",
              "</table>\n",
              "<p>2296 rows × 6 columns</p>\n",
              "</div>"
            ],
            "text/plain": [
              "      index  ... Affected versions\n",
              "0        45  ...          [2020.3]\n",
              "1        67  ...          [2020.2]\n",
              "2       178  ...          [2021.1]\n",
              "3       266  ...          [2021.1]\n",
              "4       730  ...          [2020.3]\n",
              "...     ...  ...               ...\n",
              "2291  21992  ...          [2021.2]\n",
              "2292  21994  ...          [2021.2]\n",
              "2293  22000  ...          [2021.2]\n",
              "2294  22008  ...          [2021.2]\n",
              "2295  22012  ...          [2021.2]\n",
              "\n",
              "[2296 rows x 6 columns]"
            ]
          },
          "metadata": {},
          "execution_count": 11
        }
      ]
    },
    {
      "cell_type": "markdown",
      "metadata": {
        "id": "G8_RA--i5cDa"
      },
      "source": [
        "Построим простую LDA, надо троить на данных, которые были в релизе 2020.2\n",
        "для обучения склеим названия тикетов и их описание вместе.\n",
        "\n",
        "Так как есть чать тикетов без описания, заменим его на пустые строки для корректного обучения"
      ]
    },
    {
      "cell_type": "code",
      "metadata": {
        "id": "EQYQmATiP5u-"
      },
      "source": [
        ""
      ],
      "execution_count": 11,
      "outputs": []
    },
    {
      "cell_type": "code",
      "metadata": {
        "id": "_9WseQGhSrCU"
      },
      "source": [
        "df['description'] = df['description'].replace(np.nan, \"\")"
      ],
      "execution_count": 12,
      "outputs": []
    },
    {
      "cell_type": "code",
      "metadata": {
        "id": "udd06mbyRUHb"
      },
      "source": [
        "df['text'] = df['summary'] + ' ' + df['description']"
      ],
      "execution_count": 13,
      "outputs": []
    },
    {
      "cell_type": "code",
      "metadata": {
        "id": "-GzJQKAn2r4x"
      },
      "source": [
        "df[\"head\"] = df[\"summary\"] + df[\"description\"].apply(lambda x: x[:100])"
      ],
      "execution_count": 14,
      "outputs": []
    },
    {
      "cell_type": "code",
      "metadata": {
        "colab": {
          "base_uri": "https://localhost:8080/",
          "height": 419
        },
        "id": "3uLyfqC6RkIx",
        "outputId": "ea9b42b9-370d-47d5-d502-cdda03441094"
      },
      "source": [
        "df"
      ],
      "execution_count": 15,
      "outputs": [
        {
          "output_type": "execute_result",
          "data": {
            "text/html": [
              "<div>\n",
              "<style scoped>\n",
              "    .dataframe tbody tr th:only-of-type {\n",
              "        vertical-align: middle;\n",
              "    }\n",
              "\n",
              "    .dataframe tbody tr th {\n",
              "        vertical-align: top;\n",
              "    }\n",
              "\n",
              "    .dataframe thead th {\n",
              "        text-align: right;\n",
              "    }\n",
              "</style>\n",
              "<table border=\"1\" class=\"dataframe\">\n",
              "  <thead>\n",
              "    <tr style=\"text-align: right;\">\n",
              "      <th></th>\n",
              "      <th>index</th>\n",
              "      <th>idReadable</th>\n",
              "      <th>created</th>\n",
              "      <th>summary</th>\n",
              "      <th>description</th>\n",
              "      <th>Affected versions</th>\n",
              "      <th>text</th>\n",
              "      <th>head</th>\n",
              "    </tr>\n",
              "  </thead>\n",
              "  <tbody>\n",
              "    <tr>\n",
              "      <th>0</th>\n",
              "      <td>45</td>\n",
              "      <td>PY-22211</td>\n",
              "      <td>1484097590051</td>\n",
              "      <td>Running subprocesses with Popen inside unittes...</td>\n",
              "      <td>I have the following unittest:\\n\\n```\\nclass M...</td>\n",
              "      <td>[2020.3]</td>\n",
              "      <td>Running subprocesses with Popen inside unittes...</td>\n",
              "      <td>Running subprocesses with Popen inside unittes...</td>\n",
              "    </tr>\n",
              "    <tr>\n",
              "      <th>1</th>\n",
              "      <td>67</td>\n",
              "      <td>PY-22248</td>\n",
              "      <td>1484322653638</td>\n",
              "      <td>Full project optimize imports alters library f...</td>\n",
              "      <td>Reported by: @matheusbrat on Twitter: https://...</td>\n",
              "      <td>[2020.2]</td>\n",
              "      <td>Full project optimize imports alters library f...</td>\n",
              "      <td>Full project optimize imports alters library f...</td>\n",
              "    </tr>\n",
              "    <tr>\n",
              "      <th>2</th>\n",
              "      <td>178</td>\n",
              "      <td>PY-22369</td>\n",
              "      <td>1485334537463</td>\n",
              "      <td>DataFrame auto-update doesn't work with action...</td>\n",
              "      <td>Consider this example:\\n\\n```python\\nimport pa...</td>\n",
              "      <td>[2021.1]</td>\n",
              "      <td>DataFrame auto-update doesn't work with action...</td>\n",
              "      <td>DataFrame auto-update doesn't work with action...</td>\n",
              "    </tr>\n",
              "    <tr>\n",
              "      <th>3</th>\n",
              "      <td>266</td>\n",
              "      <td>PY-22469</td>\n",
              "      <td>1485863013851</td>\n",
              "      <td>PowerShell prompt doesn't show virtualenv</td>\n",
              "      <td>Although the virtualenv seems activated, the p...</td>\n",
              "      <td>[2021.1]</td>\n",
              "      <td>PowerShell prompt doesn't show virtualenv Alth...</td>\n",
              "      <td>PowerShell prompt doesn't show virtualenvAltho...</td>\n",
              "    </tr>\n",
              "    <tr>\n",
              "      <th>4</th>\n",
              "      <td>730</td>\n",
              "      <td>PY-23007</td>\n",
              "      <td>1488923938785</td>\n",
              "      <td>Project requirements are not detected from set...</td>\n",
              "      <td>Since setuptools 30.3.0 it's possible to speci...</td>\n",
              "      <td>[2020.3]</td>\n",
              "      <td>Project requirements are not detected from set...</td>\n",
              "      <td>Project requirements are not detected from set...</td>\n",
              "    </tr>\n",
              "    <tr>\n",
              "      <th>...</th>\n",
              "      <td>...</td>\n",
              "      <td>...</td>\n",
              "      <td>...</td>\n",
              "      <td>...</td>\n",
              "      <td>...</td>\n",
              "      <td>...</td>\n",
              "      <td>...</td>\n",
              "      <td>...</td>\n",
              "    </tr>\n",
              "    <tr>\n",
              "      <th>2291</th>\n",
              "      <td>21992</td>\n",
              "      <td>PY-51608</td>\n",
              "      <td>1636987696450</td>\n",
              "      <td>Breakpoints not always hit in multi-threaded app</td>\n",
              "      <td># Steps to Reproduce\\n\\nCreate a project using...</td>\n",
              "      <td>[2021.2]</td>\n",
              "      <td>Breakpoints not always hit in multi-threaded a...</td>\n",
              "      <td>Breakpoints not always hit in multi-threaded a...</td>\n",
              "    </tr>\n",
              "    <tr>\n",
              "      <th>2292</th>\n",
              "      <td>21994</td>\n",
              "      <td>PY-51621</td>\n",
              "      <td>1637063283050</td>\n",
              "      <td>code insighte: Quick solution (+error) instead...</td>\n",
              "      <td>Hi,\\n**What I do:**\\nI open huge JSON file (ab...</td>\n",
              "      <td>[2021.2]</td>\n",
              "      <td>code insighte: Quick solution (+error) instead...</td>\n",
              "      <td>code insighte: Quick solution (+error) instead...</td>\n",
              "    </tr>\n",
              "    <tr>\n",
              "      <th>2293</th>\n",
              "      <td>22000</td>\n",
              "      <td>PY-51614</td>\n",
              "      <td>1637012454711</td>\n",
              "      <td>IDE keeps disabling Python plugin, I get and e...</td>\n",
              "      <td>Here is the job log.\\n\\nI am unable to use the...</td>\n",
              "      <td>[2021.2]</td>\n",
              "      <td>IDE keeps disabling Python plugin, I get and e...</td>\n",
              "      <td>IDE keeps disabling Python plugin, I get and e...</td>\n",
              "    </tr>\n",
              "    <tr>\n",
              "      <th>2294</th>\n",
              "      <td>22008</td>\n",
              "      <td>PY-51605</td>\n",
              "      <td>1636977168955</td>\n",
              "      <td>Better \"Invalid Python SDK\" handling</td>\n",
              "      <td>Quite often OS (usually macOS) or Python updat...</td>\n",
              "      <td>[2021.2]</td>\n",
              "      <td>Better \"Invalid Python SDK\" handling Quite oft...</td>\n",
              "      <td>Better \"Invalid Python SDK\" handlingQuite ofte...</td>\n",
              "    </tr>\n",
              "    <tr>\n",
              "      <th>2295</th>\n",
              "      <td>22012</td>\n",
              "      <td>PY-51595</td>\n",
              "      <td>1636912616563</td>\n",
              "      <td>Warn on invalid iterable unpack</td>\n",
              "      <td>```python\\nimport time\\n\\ndef foo() -&gt; float:\\...</td>\n",
              "      <td>[2021.2]</td>\n",
              "      <td>Warn on invalid iterable unpack ```python\\nimp...</td>\n",
              "      <td>Warn on invalid iterable unpack```python\\nimpo...</td>\n",
              "    </tr>\n",
              "  </tbody>\n",
              "</table>\n",
              "<p>2296 rows × 8 columns</p>\n",
              "</div>"
            ],
            "text/plain": [
              "      index  ...                                               head\n",
              "0        45  ...  Running subprocesses with Popen inside unittes...\n",
              "1        67  ...  Full project optimize imports alters library f...\n",
              "2       178  ...  DataFrame auto-update doesn't work with action...\n",
              "3       266  ...  PowerShell prompt doesn't show virtualenvAltho...\n",
              "4       730  ...  Project requirements are not detected from set...\n",
              "...     ...  ...                                                ...\n",
              "2291  21992  ...  Breakpoints not always hit in multi-threaded a...\n",
              "2292  21994  ...  code insighte: Quick solution (+error) instead...\n",
              "2293  22000  ...  IDE keeps disabling Python plugin, I get and e...\n",
              "2294  22008  ...  Better \"Invalid Python SDK\" handlingQuite ofte...\n",
              "2295  22012  ...  Warn on invalid iterable unpack```python\\nimpo...\n",
              "\n",
              "[2296 rows x 8 columns]"
            ]
          },
          "metadata": {},
          "execution_count": 15
        }
      ]
    },
    {
      "cell_type": "code",
      "metadata": {
        "id": "WzkeXe8LRktq"
      },
      "source": [
        ""
      ],
      "execution_count": 15,
      "outputs": []
    },
    {
      "cell_type": "code",
      "metadata": {
        "id": "kYVwVIM-tipw"
      },
      "source": [
        "import numpy as np\n",
        "import matplotlib.pyplot as plt\n",
        "\n",
        "import sklearn\n",
        "from sklearn.feature_extraction.text import CountVectorizer\n",
        "from sklearn.decomposition import LatentDirichletAllocation as LDA"
      ],
      "execution_count": 16,
      "outputs": []
    },
    {
      "cell_type": "code",
      "metadata": {
        "id": "WGyes9ZNSgPi"
      },
      "source": [
        ""
      ],
      "execution_count": 16,
      "outputs": []
    },
    {
      "cell_type": "code",
      "metadata": {
        "id": "iZuYydpFy-ZT"
      },
      "source": [
        "f_tickets_2 = df[df[\"Affected versions\"].apply(lambda v: \"2020.2\" in v)]\n",
        "f_tickets_3 = df[df[\"Affected versions\"].apply(lambda v: \"2020.3\" in v)]"
      ],
      "execution_count": 17,
      "outputs": []
    },
    {
      "cell_type": "code",
      "metadata": {
        "id": "jh5bJ3AzXe7I"
      },
      "source": [
        ""
      ],
      "execution_count": 17,
      "outputs": []
    },
    {
      "cell_type": "code",
      "metadata": {
        "id": "ZLrmNEhzuT_F"
      },
      "source": [
        "counter = CountVectorizer(stop_words='english', ngram_range=(2, 3), max_df=0.3)\n",
        "X_2020_2 = counter.fit_transform(f_tickets_2[\"text\"].values.astype('U'))"
      ],
      "execution_count": 18,
      "outputs": []
    },
    {
      "cell_type": "code",
      "metadata": {
        "colab": {
          "base_uri": "https://localhost:8080/"
        },
        "id": "JuQ1N2XPYS4s",
        "outputId": "864912ed-26b5-4e1e-db47-ef771dee3949"
      },
      "source": [
        "X_2020_2"
      ],
      "execution_count": 19,
      "outputs": [
        {
          "output_type": "execute_result",
          "data": {
            "text/plain": [
              "<625x79549 sparse matrix of type '<class 'numpy.int64'>'\n",
              "\twith 106102 stored elements in Compressed Sparse Row format>"
            ]
          },
          "metadata": {},
          "execution_count": 19
        }
      ]
    },
    {
      "cell_type": "code",
      "metadata": {
        "colab": {
          "base_uri": "https://localhost:8080/"
        },
        "id": "G9g3-WSyYTYc",
        "outputId": "038e0f5a-cb8f-4408-c334-2cdde752f407"
      },
      "source": [
        "f_tickets_2.index"
      ],
      "execution_count": 20,
      "outputs": [
        {
          "output_type": "execute_result",
          "data": {
            "text/plain": [
              "Int64Index([   1,    6,    9,   10,   16,   22,   29,   31,   32,   34,\n",
              "            ...\n",
              "             995,  998,  999, 1011, 1014, 1022, 1032, 1056, 1057, 1169],\n",
              "           dtype='int64', length=625)"
            ]
          },
          "metadata": {},
          "execution_count": 20
        }
      ]
    },
    {
      "cell_type": "code",
      "metadata": {
        "colab": {
          "base_uri": "https://localhost:8080/"
        },
        "id": "fgnTgvFLTL23",
        "outputId": "5602de20-83a1-46ef-c470-16d9cbe9518b"
      },
      "source": [
        "lda = LDA(n_components=8, random_state=7)\n",
        "lda.fit(X_2020_2)"
      ],
      "execution_count": 21,
      "outputs": [
        {
          "output_type": "execute_result",
          "data": {
            "text/plain": [
              "LatentDirichletAllocation(n_components=8, random_state=7)"
            ]
          },
          "metadata": {},
          "execution_count": 21
        }
      ]
    },
    {
      "cell_type": "code",
      "metadata": {
        "colab": {
          "base_uri": "https://localhost:8080/"
        },
        "id": "G-e_6nILSQoD",
        "outputId": "54482739-b2f0-4a61-dc91-5d5bbb8a8068"
      },
      "source": [
        "counter.get_feature_names_out()"
      ],
      "execution_count": 22,
      "outputs": [
        {
          "output_type": "execute_result",
          "data": {
            "text/plain": [
              "array(['00 00', '00 00 00000000', '00 00000000', ..., '进程已结束 退出代码0',\n",
              "       '𝕡𝕣ⁱ𝕟𝕥 hello', '𝕡𝕣ⁱ𝕟𝕥 hello expected'], dtype=object)"
            ]
          },
          "metadata": {},
          "execution_count": 22
        }
      ]
    },
    {
      "cell_type": "code",
      "metadata": {
        "colab": {
          "base_uri": "https://localhost:8080/"
        },
        "id": "RS0xepWfwqzm",
        "outputId": "69c48a5f-7465-4231-8991-bc343cf900de"
      },
      "source": [
        "lda.components_"
      ],
      "execution_count": 23,
      "outputs": [
        {
          "output_type": "execute_result",
          "data": {
            "text/plain": [
              "array([[0.125     , 0.125     , 0.125     , ..., 0.125     , 0.12500363,\n",
              "        0.12500363],\n",
              "       [0.125     , 0.125     , 0.125     , ..., 0.125     , 1.12496853,\n",
              "        1.12496853],\n",
              "       [0.125     , 0.125     , 0.125     , ..., 1.125     , 0.125     ,\n",
              "        0.125     ],\n",
              "       ...,\n",
              "       [0.125     , 0.125     , 0.125     , ..., 0.125     , 0.125     ,\n",
              "        0.125     ],\n",
              "       [0.125     , 0.125     , 0.125     , ..., 0.125     , 0.12502784,\n",
              "        0.12502784],\n",
              "       [0.125     , 0.125     , 0.125     , ..., 0.125     , 0.125     ,\n",
              "        0.125     ]])"
            ]
          },
          "metadata": {},
          "execution_count": 23
        }
      ]
    },
    {
      "cell_type": "code",
      "metadata": {
        "colab": {
          "base_uri": "https://localhost:8080/"
        },
        "id": "wec7VBrvwuxv",
        "outputId": "618bbbd7-5862-42a5-a4a8-a75968da65d3"
      },
      "source": [
        "feature_names = counter.get_feature_names_out()[np.argsort(lda.components_, axis=-1)[:, ::-1]]\n",
        "feature_names"
      ],
      "execution_count": 24,
      "outputs": [
        {
          "output_type": "execute_result",
          "data": {
            "text/plain": [
              "array([['com intellij', 'intellij openapi', 'com intellij openapi', ...,\n",
              "        '13 16 28', '13 16', '08 13 16'],\n",
              "       ['11 10', '11 10 b944', '10 b944', ..., '12 04', '2020 12 04',\n",
              "        '04 16 10'],\n",
              "       ['java base', 'java base java', 'base java', ..., '04 16 10',\n",
              "        '2020 12 04', '16 10'],\n",
              "       ...,\n",
              "       ['reproduce problem', 'steps reproduce problem',\n",
              "        'happens instead', ..., '2020 12 04', '16 10', '12 04 16'],\n",
              "       ['py line', 'file users', 'jre 11', ..., '12 04', '16 10',\n",
              "        '04 16 10'],\n",
              "       ['202 7660 27', '7660 27', '202 7660', ..., '12 04 16', '12 04',\n",
              "        '04 16 10']], dtype=object)"
            ]
          },
          "metadata": {},
          "execution_count": 24
        }
      ]
    },
    {
      "cell_type": "code",
      "metadata": {
        "id": "ZsOcs_Zcw9GD"
      },
      "source": [
        "tickets = lda.transform(X_2020_2)"
      ],
      "execution_count": 25,
      "outputs": []
    },
    {
      "cell_type": "code",
      "metadata": {
        "colab": {
          "base_uri": "https://localhost:8080/",
          "height": 297
        },
        "id": "pZE50rUJ4Ilj",
        "outputId": "0b69f7ce-2f95-44b2-e669-432f4e2ec801"
      },
      "source": [
        "f_tickets_2.iloc[tickets.argmax(axis=0)]"
      ],
      "execution_count": 26,
      "outputs": [
        {
          "output_type": "execute_result",
          "data": {
            "text/html": [
              "<div>\n",
              "<style scoped>\n",
              "    .dataframe tbody tr th:only-of-type {\n",
              "        vertical-align: middle;\n",
              "    }\n",
              "\n",
              "    .dataframe tbody tr th {\n",
              "        vertical-align: top;\n",
              "    }\n",
              "\n",
              "    .dataframe thead th {\n",
              "        text-align: right;\n",
              "    }\n",
              "</style>\n",
              "<table border=\"1\" class=\"dataframe\">\n",
              "  <thead>\n",
              "    <tr style=\"text-align: right;\">\n",
              "      <th></th>\n",
              "      <th>index</th>\n",
              "      <th>idReadable</th>\n",
              "      <th>created</th>\n",
              "      <th>summary</th>\n",
              "      <th>description</th>\n",
              "      <th>Affected versions</th>\n",
              "      <th>text</th>\n",
              "      <th>head</th>\n",
              "    </tr>\n",
              "  </thead>\n",
              "  <tbody>\n",
              "    <tr>\n",
              "      <th>760</th>\n",
              "      <td>18049</td>\n",
              "      <td>PY-45820</td>\n",
              "      <td>1607098503682</td>\n",
              "      <td>Last update not working on Ubuntu 20.4</td>\n",
              "      <td>OpenJDK 64-Bit Server VM warning: Option UseCo...</td>\n",
              "      <td>[2020.2]</td>\n",
              "      <td>Last update not working on Ubuntu 20.4 OpenJDK...</td>\n",
              "      <td>Last update not working on Ubuntu 20.4OpenJDK ...</td>\n",
              "    </tr>\n",
              "    <tr>\n",
              "      <th>32</th>\n",
              "      <td>5708</td>\n",
              "      <td>PY-28703</td>\n",
              "      <td>1519758352285</td>\n",
              "      <td>Optimize import corrupts code with long import...</td>\n",
              "      <td>Optimizing imports on the following code:\\n{co...</td>\n",
              "      <td>[2020.2]</td>\n",
              "      <td>Optimize import corrupts code with long import...</td>\n",
              "      <td>Optimize import corrupts code with long import...</td>\n",
              "    </tr>\n",
              "    <tr>\n",
              "      <th>319</th>\n",
              "      <td>16748</td>\n",
              "      <td>PY-44032</td>\n",
              "      <td>1597357988369</td>\n",
              "      <td>Quick Evaluate Expression times out</td>\n",
              "      <td>When I try to use Quick Evaluate locally or in...</td>\n",
              "      <td>[2020.2]</td>\n",
              "      <td>Quick Evaluate Expression times out When I try...</td>\n",
              "      <td>Quick Evaluate Expression times outWhen I try ...</td>\n",
              "    </tr>\n",
              "    <tr>\n",
              "      <th>383</th>\n",
              "      <td>16877</td>\n",
              "      <td>PY-44218</td>\n",
              "      <td>1598510515143</td>\n",
              "      <td>Jupyter Interpreter not Working</td>\n",
              "      <td>Hello,\\n\\nI'm trying to run Jupyter Notebooks ...</td>\n",
              "      <td>[2020.2]</td>\n",
              "      <td>Jupyter Interpreter not Working Hello,\\n\\nI'm ...</td>\n",
              "      <td>Jupyter Interpreter not WorkingHello,\\n\\nI'm t...</td>\n",
              "    </tr>\n",
              "    <tr>\n",
              "      <th>423</th>\n",
              "      <td>17001</td>\n",
              "      <td>PY-44404</td>\n",
              "      <td>1599576793284</td>\n",
              "      <td>PyCharm freezes multiple times a day with Stac...</td>\n",
              "      <td>On Ubuntu with Python 3.8.2 PyCharm freezes fr...</td>\n",
              "      <td>[2020.2]</td>\n",
              "      <td>PyCharm freezes multiple times a day with Stac...</td>\n",
              "      <td>PyCharm freezes multiple times a day with Stac...</td>\n",
              "    </tr>\n",
              "    <tr>\n",
              "      <th>275</th>\n",
              "      <td>16659</td>\n",
              "      <td>PY-43865</td>\n",
              "      <td>1596653700322</td>\n",
              "      <td>Debugger crashes program with asyncio code</td>\n",
              "      <td>I try to debug this program and problems is st...</td>\n",
              "      <td>[2020.2]</td>\n",
              "      <td>Debugger crashes program with asyncio code I t...</td>\n",
              "      <td>Debugger crashes program with asyncio codeI tr...</td>\n",
              "    </tr>\n",
              "    <tr>\n",
              "      <th>215</th>\n",
              "      <td>16478</td>\n",
              "      <td>PY-43599</td>\n",
              "      <td>1595499822750</td>\n",
              "      <td>Packages are not removed correctly if python c...</td>\n",
              "      <td>##### Case 1:\\n**STR:**\\n1. Install matplotlib...</td>\n",
              "      <td>[2020.2]</td>\n",
              "      <td>Packages are not removed correctly if python c...</td>\n",
              "      <td>Packages are not removed correctly if python c...</td>\n",
              "    </tr>\n",
              "    <tr>\n",
              "      <th>233</th>\n",
              "      <td>16543</td>\n",
              "      <td>PY-43703</td>\n",
              "      <td>1596025961076</td>\n",
              "      <td>IndexError: Too many indices for array - GPU a...</td>\n",
              "      <td>**What steps will reproduce the problem?**\\n1....</td>\n",
              "      <td>[2020.1, 2020.2]</td>\n",
              "      <td>IndexError: Too many indices for array - GPU a...</td>\n",
              "      <td>IndexError: Too many indices for array - GPU a...</td>\n",
              "    </tr>\n",
              "  </tbody>\n",
              "</table>\n",
              "</div>"
            ],
            "text/plain": [
              "     index  ...                                               head\n",
              "760  18049  ...  Last update not working on Ubuntu 20.4OpenJDK ...\n",
              "32    5708  ...  Optimize import corrupts code with long import...\n",
              "319  16748  ...  Quick Evaluate Expression times outWhen I try ...\n",
              "383  16877  ...  Jupyter Interpreter not WorkingHello,\\n\\nI'm t...\n",
              "423  17001  ...  PyCharm freezes multiple times a day with Stac...\n",
              "275  16659  ...  Debugger crashes program with asyncio codeI tr...\n",
              "215  16478  ...  Packages are not removed correctly if python c...\n",
              "233  16543  ...  IndexError: Too many indices for array - GPU a...\n",
              "\n",
              "[8 rows x 8 columns]"
            ]
          },
          "metadata": {},
          "execution_count": 26
        }
      ]
    },
    {
      "cell_type": "code",
      "metadata": {
        "id": "0jJUmCrJzIMI"
      },
      "source": [
        ""
      ],
      "execution_count": 26,
      "outputs": []
    },
    {
      "cell_type": "code",
      "metadata": {
        "colab": {
          "base_uri": "https://localhost:8080/"
        },
        "id": "A6w1X1zWzLJS",
        "outputId": "410c8c63-50cc-4785-dc26-54756034129f"
      },
      "source": [
        "for value, code, name, v in zip(tickets.max(axis=0),  f_tickets_2.iloc[tickets.argmax(axis=0)][\"idReadable\"], f_tickets_2.iloc[tickets.argmax(axis=0)]['summary'], f_tickets_2.iloc[tickets.argmax(axis=0)]['Affected versions']):\n",
        "    print(value, code, v, name)"
      ],
      "execution_count": 27,
      "outputs": [
        {
          "output_type": "stream",
          "name": "stdout",
          "text": [
            "0.9999726929196795 PY-45820 ['2020.2'] Last update not working on Ubuntu 20.4\n",
            "0.998114143603153 PY-28703 ['2020.2'] Optimize import corrupts code with long import lines\n",
            "0.9997752264096063 PY-44032 ['2020.2'] Quick Evaluate Expression times out\n",
            "0.9986019080375321 PY-44218 ['2020.2'] Jupyter Interpreter not Working\n",
            "0.999462974933042 PY-44404 ['2020.2'] PyCharm freezes multiple times a day with StackOverflowError\n",
            "0.9992375898750934 PY-43865 ['2020.2'] Debugger crashes program with asyncio code\n",
            "0.9993420534061161 PY-43599 ['2020.2'] Packages are not removed correctly if python console is opened\n",
            "0.9988139078352771 PY-43703 ['2020.1', '2020.2'] IndexError: Too many indices for array - GPU array to CPU - Python Console\n"
          ]
        }
      ]
    },
    {
      "cell_type": "markdown",
      "metadata": {
        "id": "1ypjiOoI5h6K"
      },
      "source": [
        "Если посмотреть на эти тикеты в ютреке, увидим, что они не очень содержалельные. Также видно, что часто в описание пихают что-то типа стектрейсов на много экранов, что мешает нормальному обучению модели. Поэтому обучимся на имени тикетов + части описаний"
      ]
    },
    {
      "cell_type": "code",
      "metadata": {
        "id": "D_DwyiOKZH81"
      },
      "source": [
        ""
      ],
      "execution_count": 27,
      "outputs": []
    },
    {
      "cell_type": "code",
      "metadata": {
        "id": "yaojLw8hZFse"
      },
      "source": [
        "counter = CountVectorizer(stop_words='english', ngram_range=(2, 3), max_df=0.3)\n",
        "X_2020_2 = counter.fit_transform(f_tickets_2[\"summary\"].values.astype('U'))"
      ],
      "execution_count": 28,
      "outputs": []
    },
    {
      "cell_type": "code",
      "metadata": {
        "colab": {
          "base_uri": "https://localhost:8080/"
        },
        "id": "qkAcZdMj6a67",
        "outputId": "4d7199a6-c6e2-44b0-b726-ea981965acb2"
      },
      "source": [
        "lda = LDA(n_components=8, random_state=7)\n",
        "lda.fit(X_2020_2)"
      ],
      "execution_count": 29,
      "outputs": [
        {
          "output_type": "execute_result",
          "data": {
            "text/plain": [
              "LatentDirichletAllocation(n_components=8, random_state=7)"
            ]
          },
          "metadata": {},
          "execution_count": 29
        }
      ]
    },
    {
      "cell_type": "code",
      "metadata": {
        "colab": {
          "base_uri": "https://localhost:8080/"
        },
        "id": "kyd1hfJy6Ywu",
        "outputId": "cfc57718-9f69-43a2-87ee-c686cc73ab18"
      },
      "source": [
        "counter.get_feature_names_out()"
      ],
      "execution_count": 30,
      "outputs": [
        {
          "output_type": "execute_result",
          "data": {
            "text/plain": [
              "array(['04 flatpak', '04 flatpak detect', '10 14', ..., 'zsh shell',\n",
              "       'zshrc available', 'zshrc available jupyter'], dtype=object)"
            ]
          },
          "metadata": {},
          "execution_count": 30
        }
      ]
    },
    {
      "cell_type": "code",
      "metadata": {
        "id": "HTf5pHyk6V3r"
      },
      "source": [
        "tickets = lda.transform(X_2020_2)"
      ],
      "execution_count": 31,
      "outputs": []
    },
    {
      "cell_type": "code",
      "metadata": {
        "colab": {
          "base_uri": "https://localhost:8080/"
        },
        "id": "vsP8eubq6TTH",
        "outputId": "c160c2f9-2a21-40cf-c31b-fd411395d67b"
      },
      "source": [
        "for value, code, name, v in zip(tickets.max(axis=0),  f_tickets_2.iloc[tickets.argmax(axis=0)][\"idReadable\"], f_tickets_2.iloc[tickets.argmax(axis=0)]['summary'], f_tickets_2.iloc[tickets.argmax(axis=0)]['Affected versions']):\n",
        "    print(value, code, v, name)"
      ],
      "execution_count": 32,
      "outputs": [
        {
          "output_type": "stream",
          "name": "stdout",
          "text": [
            "0.966344484880639 PY-43176 ['2020.2'] Bug: Cannot open ReST files (2020.2 EAP version, ReStructured Text plugin bundled 202.5792.43)\n",
            "0.9687470979697408 PY-44751 ['2020.2'] Pycharm Pro (installed on ubuntu 18.04 via flatpak) can't detect system python interpreter, instead forces the use of a builtin interpreter\n",
            "0.9687493652347855 PY-44735 ['2020.2'] Python in CLion: a Python file contains unit tests and normal code; bevel icon suggests running unit tests.\n",
            "0.9726528230247085 PY-44823 ['2020.2'] False positive \"Expected type Iterable\" calling \"sorted\" on a list of custom class instances implementing dunder gt instead of dunder lt\n",
            "0.9663461349577149 PY-45381 ['2020.2'] dataclass field redeclaration in subclass erroneously triggers \"non-default argument(s) follows default argument(s) defined in parent\"\n",
            "0.9687499792258335 PY-42998 ['2020.1', '2020.2'] My own mypy stubs (.pyi) files are not working properly unless  I link them into the PyCharm `Contents/plugins/python/helpers/typeshed` directory\n",
            "0.9801136242830818 PY-44992 ['2020.2'] When I move my project in other directory and even delete .idea  PyCharm have troubles with identifying the way to my venv interpreter. It changing this path as soon as I configure it in previous window.  (I`m creatining venv through 'python -m venv venv'). I faced with this problem before.\n",
            "0.9562453804805927 PY-28716 ['2020.2'] \"Class 'list' does not define '__getitem__', so the '[]' operator cannot be used on its instances\" false positive while editing\n"
          ]
        }
      ]
    },
    {
      "cell_type": "markdown",
      "metadata": {
        "id": "J_9Txohn5lKx"
      },
      "source": [
        "Уже лучше. В тикетах есть обсуждения и даже лайки\n",
        "\n",
        "https://youtrack.jetbrains.com/issue/PY-45381 \n",
        "\n",
        "https://youtrack.jetbrains.com/issue/PY-28716"
      ]
    },
    {
      "cell_type": "code",
      "metadata": {
        "id": "0Ox5-oS732fH"
      },
      "source": [
        ""
      ],
      "execution_count": 32,
      "outputs": []
    },
    {
      "cell_type": "code",
      "metadata": {
        "colab": {
          "base_uri": "https://localhost:8080/"
        },
        "id": "FYLub7_la-TW",
        "outputId": "586c252f-3232-479a-b26b-b5002350ef80"
      },
      "source": [
        "counter = CountVectorizer(stop_words='english', ngram_range=(2, 3), max_df=0.3)\n",
        "X_2020_2 = counter.fit_transform(f_tickets_2[\"head\"].values.astype('U'))\n",
        "counter.get_feature_names_out()"
      ],
      "execution_count": 33,
      "outputs": [
        {
          "output_type": "execute_result",
          "data": {
            "text/plain": [
              "array(['00_add jp', '01 01', '01 01 end', ..., 'привет print',\n",
              "       'привет print use', '𝕡𝕣ⁱ𝕟𝕥 hello'], dtype=object)"
            ]
          },
          "metadata": {},
          "execution_count": 33
        }
      ]
    },
    {
      "cell_type": "code",
      "metadata": {
        "id": "1MuLQM80a5iO"
      },
      "source": [
        "lda = LDA(n_components=8, random_state=7)\n",
        "lda.fit(X_2020_2)\n",
        "tickets = lda.transform(X_2020_2)"
      ],
      "execution_count": 34,
      "outputs": []
    },
    {
      "cell_type": "code",
      "metadata": {
        "colab": {
          "base_uri": "https://localhost:8080/"
        },
        "id": "hrQyoM182m_X",
        "outputId": "116c0dd1-1849-4922-9a97-a7b03234a8bc"
      },
      "source": [
        "for value, code, name, v in zip(tickets.max(axis=0),  f_tickets_2.iloc[tickets.argmax(axis=0)][\"idReadable\"], f_tickets_2.iloc[tickets.argmax(axis=0)]['summary'], f_tickets_2.iloc[tickets.argmax(axis=0)]['Affected versions']):\n",
        "    print(value, code, v, name)"
      ],
      "execution_count": 35,
      "outputs": [
        {
          "output_type": "stream",
          "name": "stdout",
          "text": [
            "0.982494908168985 PY-44751 ['2020.2'] Pycharm Pro (installed on ubuntu 18.04 via flatpak) can't detect system python interpreter, instead forces the use of a builtin interpreter\n",
            "0.9809773369931035 PY-43558 ['2020.2'] \"Expected: pydevd-pycharm.egg\\pydevd_attach_to_process\\attach_amd64.dll to exist\" using Python Debug Server\n",
            "0.983169456480077 PY-43936 ['2020.2'] Python Console should allow running code line by line when use \"Execute Selection in Python Console\"\n",
            "0.9837927141414157 PY-44823 ['2020.2'] False positive \"Expected type Iterable\" calling \"sorted\" on a list of custom class instances implementing dunder gt instead of dunder lt\n",
            "0.9801129676864413 PY-44090 ['2020.2'] \"Exception ignored in module threading\" while debugging with \"Collect run-time types\" option enabled\n",
            "0.9887818907562536 PY-44992 ['2020.2'] When I move my project in other directory and even delete .idea  PyCharm have troubles with identifying the way to my venv interpreter. It changing this path as soon as I configure it in previous window.  (I`m creatining venv through 'python -m venv venv'). I faced with this problem before.\n",
            "0.9831690862089296 PY-44017 ['2020.3', '2021.1', '2020.2'] Add Python Interpreter > SSH interpreter incorrectly converts to Deployment configuration and creates a deployment configuration that its path mapping depends on\n",
            "0.9843678002649466 PY-43176 ['2020.2'] Bug: Cannot open ReST files (2020.2 EAP version, ReStructured Text plugin bundled 202.5792.43)\n"
          ]
        }
      ]
    },
    {
      "cell_type": "markdown",
      "metadata": {
        "id": "uU7nvnMN5qH8"
      },
      "source": [
        "Если посмотреть на отличия с предыдущим глазами, нашлось еще пара важных тикетов -- \n",
        "https://youtrack.jetbrains.com/issue/PY-44017 -- ловили сами\n",
        "https://youtrack.jetbrains.com/issue/PY-44090 -- 9 лайков"
      ]
    },
    {
      "cell_type": "code",
      "metadata": {
        "id": "QCKdqPvi2gNo"
      },
      "source": [
        ""
      ],
      "execution_count": 35,
      "outputs": []
    },
    {
      "cell_type": "code",
      "metadata": {
        "id": "Z3fj3XqJeHpH"
      },
      "source": [
        "classes = tickets.argmax(axis=1)"
      ],
      "execution_count": 36,
      "outputs": []
    },
    {
      "cell_type": "code",
      "metadata": {
        "colab": {
          "base_uri": "https://localhost:8080/"
        },
        "id": "m00wp4ZS2GrH",
        "outputId": "c0034917-ac83-43b2-dd79-92100a779eba"
      },
      "source": [
        "from collections import defaultdict\n",
        "classes_count_2 = defaultdict(int)\n",
        "for cls in classes:\n",
        "    classes_count_2[cls] += 1\n",
        "classes_count_2"
      ],
      "execution_count": 37,
      "outputs": [
        {
          "output_type": "execute_result",
          "data": {
            "text/plain": [
              "defaultdict(int, {0: 86, 1: 67, 2: 72, 3: 99, 4: 57, 5: 85, 6: 82, 7: 77})"
            ]
          },
          "metadata": {},
          "execution_count": 37
        }
      ]
    },
    {
      "cell_type": "code",
      "metadata": {
        "id": "wduvZVujyL40"
      },
      "source": [
        "from collections import defaultdict\n",
        "import re\n",
        "words_count = defaultdict(dict)\n",
        "i = 0\n",
        "for t in f_tickets_2[\"head\"]:\n",
        "    for w in t.split():\n",
        "        w = w.lower().replace(\"/\", \" \").replace(\".\", \" \").replace(\":\", \" \")\n",
        "        w = re.sub('[^a-zA-Z]+', '', w)\n",
        "        if len(w) <= 3:\n",
        "            continue\n",
        "        if w not in words_count[classes[i]]:\n",
        "            words_count[classes[i]][w] = 1\n",
        "        else:\n",
        "            words_count[classes[i]][w] += 1\n",
        "    i+=1"
      ],
      "execution_count": 38,
      "outputs": []
    },
    {
      "cell_type": "code",
      "metadata": {
        "colab": {
          "base_uri": "https://localhost:8080/"
        },
        "id": "8I5UF25NsQ97",
        "outputId": "4d27d1be-552c-4acb-bab5-4020eca016e7"
      },
      "source": [
        "words_count[0]['python']"
      ],
      "execution_count": 39,
      "outputs": [
        {
          "output_type": "execute_result",
          "data": {
            "text/plain": [
              "19"
            ]
          },
          "metadata": {},
          "execution_count": 39
        }
      ]
    },
    {
      "cell_type": "code",
      "metadata": {
        "colab": {
          "base_uri": "https://localhost:8080/"
        },
        "id": "dUEfqwGntXL9",
        "outputId": "9aaed4d1-18dd-449a-9694-ef2288fbd609"
      },
      "source": [
        "\n",
        "for i in range(8):\n",
        "    print(f'class {i+1}')\n",
        "    dct = words_count[i]\n",
        "    l = 0\n",
        "    for kv in sorted(dct.items(), key=lambda item: -item[1]):\n",
        "        if l == 10:\n",
        "            break\n",
        "        l+=1\n",
        "        print(kv)\n",
        "    print()"
      ],
      "execution_count": 40,
      "outputs": [
        {
          "output_type": "stream",
          "name": "stdout",
          "text": [
            "class 1\n",
            "('pycharm', 38)\n",
            "('with', 32)\n",
            "('steps', 27)\n",
            "('reproduce', 26)\n",
            "('will', 22)\n",
            "('problem', 22)\n",
            "('when', 20)\n",
            "('python', 19)\n",
            "('type', 19)\n",
            "('create', 14)\n",
            "\n",
            "class 2\n",
            "('python', 30)\n",
            "('reproduce', 25)\n",
            "('with', 24)\n",
            "('pycharm', 21)\n",
            "('steps', 20)\n",
            "('problem', 20)\n",
            "('will', 18)\n",
            "('when', 16)\n",
            "('project', 13)\n",
            "('class', 13)\n",
            "\n",
            "class 3\n",
            "('pycharm', 26)\n",
            "('python', 19)\n",
            "('reproduce', 18)\n",
            "('steps', 17)\n",
            "('will', 17)\n",
            "('problem', 16)\n",
            "('with', 15)\n",
            "('from', 15)\n",
            "('project', 14)\n",
            "('jupyter', 14)\n",
            "\n",
            "class 4\n",
            "('reproduce', 51)\n",
            "('will', 50)\n",
            "('steps', 48)\n",
            "('problem', 48)\n",
            "('pycharm', 30)\n",
            "('with', 27)\n",
            "('python', 25)\n",
            "('create', 20)\n",
            "('import', 18)\n",
            "('code', 18)\n",
            "\n",
            "class 5\n",
            "('pycharm', 28)\n",
            "('python', 21)\n",
            "('reproduce', 12)\n",
            "('jupyter', 10)\n",
            "('file', 10)\n",
            "('problem', 9)\n",
            "('steps', 8)\n",
            "('will', 8)\n",
            "('project', 8)\n",
            "('interpreter', 8)\n",
            "\n",
            "class 6\n",
            "('python', 30)\n",
            "('with', 23)\n",
            "('project', 21)\n",
            "('pycharm', 18)\n",
            "('when', 18)\n",
            "('reproduce', 16)\n",
            "('steps', 14)\n",
            "('create', 13)\n",
            "('windows', 12)\n",
            "('jetbrains', 12)\n",
            "\n",
            "class 7\n",
            "('python', 41)\n",
            "('reproduce', 33)\n",
            "('will', 30)\n",
            "('steps', 29)\n",
            "('problem', 27)\n",
            "('with', 24)\n",
            "('pycharm', 21)\n",
            "('when', 19)\n",
            "('create', 18)\n",
            "('import', 17)\n",
            "\n",
            "class 8\n",
            "('with', 30)\n",
            "('reproduce', 21)\n",
            "('will', 19)\n",
            "('steps', 18)\n",
            "('problem', 17)\n",
            "('pycharm', 16)\n",
            "('python', 16)\n",
            "('jupyter', 13)\n",
            "('notebook', 12)\n",
            "('code', 12)\n",
            "\n"
          ]
        }
      ]
    },
    {
      "cell_type": "code",
      "metadata": {
        "id": "nGDTT6lTtFsg"
      },
      "source": [
        "def plot_class(i):\n",
        "    keys = []\n",
        "    vals = []\n",
        "    dct = words_count[i]\n",
        "    l = 0\n",
        "    for kv in sorted(dct.items(), key=lambda item: -item[1]):\n",
        "        if l == 10:\n",
        "            break\n",
        "        l+=1\n",
        "        keys.append(kv[0])\n",
        "        vals.append(kv[1])\n",
        "        \n",
        "    \n",
        "    plt.bar(keys, vals)\n",
        "    plt.xticks(rotation=90)"
      ],
      "execution_count": 41,
      "outputs": []
    },
    {
      "cell_type": "code",
      "metadata": {
        "colab": {
          "base_uri": "https://localhost:8080/",
          "height": 306
        },
        "id": "4z2MbEghs-8f",
        "outputId": "b94acb64-d1f2-48f4-879b-0bd239b2a066"
      },
      "source": [
        "plot_class(0)"
      ],
      "execution_count": 42,
      "outputs": [
        {
          "output_type": "display_data",
          "data": {
            "image/png": "[encoded data removed]",
            "text/plain": [
              "<Figure size 432x288 with 1 Axes>"
            ]
          },
          "metadata": {
            "needs_background": "light"
          }
        }
      ]
    },
    {
      "cell_type": "code",
      "metadata": {
        "id": "aQeP8uXVvbhw"
      },
      "source": [
        "words_count = defaultdict(dict)\n",
        "i = 0\n",
        "for t in f_tickets_2[\"head\"]:\n",
        "    for w in t.split():\n",
        "        w = w.lower().replace(\"/\", \" \").replace(\".\", \" \").replace(\":\", \" \")\n",
        "        w = re.sub('[^a-zA-Z]+', '', w)\n",
        "        if len(w) <= 3:\n",
        "            continue\n",
        "        if w not in words_count[classes[i]]:\n",
        "            words_count[classes[i]][w] = 1\n",
        "        else:\n",
        "            words_count[classes[i]][w] += 1\n",
        "    i+=1"
      ],
      "execution_count": 43,
      "outputs": []
    },
    {
      "cell_type": "code",
      "metadata": {
        "id": "ocr6TKgfvPfb"
      },
      "source": [
        "# Частоты слов в лоб дают просто популярные слова. выкинем лишние."
      ],
      "execution_count": 44,
      "outputs": []
    },
    {
      "cell_type": "code",
      "metadata": {
        "id": "8S3d9Uowvg3V"
      },
      "source": [
        "words_count = defaultdict(dict)\n",
        "i = 0\n",
        "for t in f_tickets_2[\"head\"]:\n",
        "    for w in t.split():\n",
        "        w = w.lower().replace(\"/\", \" \").replace(\".\", \" \").replace(\":\", \" \")\n",
        "        w = re.sub('[^a-zA-Z]+', '', w)\n",
        "        if len(w) <= 3:\n",
        "            continue\n",
        "        if w in [\"pycharm\", \"with\", \"step\", \"when\", \"python\", \"problem\", \"will\", \"steps\", \"reproduce\"]:\n",
        "            continue\n",
        "        if w not in words_count[classes[i]]:\n",
        "            words_count[classes[i]][w] = 1\n",
        "        else:\n",
        "            words_count[classes[i]][w] += 1\n",
        "    i+=1"
      ],
      "execution_count": 45,
      "outputs": []
    },
    {
      "cell_type": "code",
      "metadata": {
        "colab": {
          "base_uri": "https://localhost:8080/",
          "height": 309
        },
        "id": "SrMPOlINv4V0",
        "outputId": "095f251c-01bb-41ea-83f8-4ecc097b93af"
      },
      "source": [
        "plot_class(0)"
      ],
      "execution_count": 46,
      "outputs": [
        {
          "output_type": "display_data",
          "data": {
            "image/png": "[encoded data removed]",
            "text/plain": [
              "<Figure size 432x288 with 1 Axes>"
            ]
          },
          "metadata": {
            "needs_background": "light"
          }
        }
      ]
    },
    {
      "cell_type": "code",
      "metadata": {
        "colab": {
          "base_uri": "https://localhost:8080/",
          "height": 293
        },
        "id": "SMp8ZSaFsv9h",
        "outputId": "a4bc1ab3-9c57-4589-c50c-e8bab9397e70"
      },
      "source": [
        "plot_class(1)"
      ],
      "execution_count": 47,
      "outputs": [
        {
          "output_type": "display_data",
          "data": {
            "image/png": "[encoded data removed]",
            "text/plain": [
              "<Figure size 432x288 with 1 Axes>"
            ]
          },
          "metadata": {
            "needs_background": "light"
          }
        }
      ]
    },
    {
      "cell_type": "code",
      "metadata": {
        "colab": {
          "base_uri": "https://localhost:8080/",
          "height": 309
        },
        "id": "NsUbxufIssut",
        "outputId": "beab2625-958e-4dec-c530-7cea6848ffc4"
      },
      "source": [
        "plot_class(2)"
      ],
      "execution_count": 48,
      "outputs": [
        {
          "output_type": "display_data",
          "data": {
            "image/png": "[encoded data removed]",
            "text/plain": [
              "<Figure size 432x288 with 1 Axes>"
            ]
          },
          "metadata": {
            "needs_background": "light"
          }
        }
      ]
    },
    {
      "cell_type": "code",
      "metadata": {
        "colab": {
          "base_uri": "https://localhost:8080/",
          "height": 309
        },
        "id": "Sza0NdzSsqZ7",
        "outputId": "0d10933b-515c-4456-93bb-b01c620e80f4"
      },
      "source": [
        "plot_class(3)"
      ],
      "execution_count": 49,
      "outputs": [
        {
          "output_type": "display_data",
          "data": {
            "image/png": "[encoded data removed]",
            "text/plain": [
              "<Figure size 432x288 with 1 Axes>"
            ]
          },
          "metadata": {
            "needs_background": "light"
          }
        }
      ]
    },
    {
      "cell_type": "code",
      "metadata": {
        "colab": {
          "base_uri": "https://localhost:8080/",
          "height": 309
        },
        "id": "BJtOl03DvFc8",
        "outputId": "bef2d1e8-6856-41fb-864e-aa99f7810616"
      },
      "source": [
        "plot_class(4)"
      ],
      "execution_count": 50,
      "outputs": [
        {
          "output_type": "display_data",
          "data": {
            "image/png": "[encoded data removed]",
            "text/plain": [
              "<Figure size 432x288 with 1 Axes>"
            ]
          },
          "metadata": {
            "needs_background": "light"
          }
        }
      ]
    },
    {
      "cell_type": "code",
      "metadata": {
        "colab": {
          "base_uri": "https://localhost:8080/",
          "height": 299
        },
        "id": "SyPx1lBWvHZA",
        "outputId": "2cdb09bc-eb6a-43e3-8207-45c83ac48dec"
      },
      "source": [
        "plot_class(5)"
      ],
      "execution_count": 51,
      "outputs": [
        {
          "output_type": "display_data",
          "data": {
            "image/png": "[encoded data removed]",
            "text/plain": [
              "<Figure size 432x288 with 1 Axes>"
            ]
          },
          "metadata": {
            "needs_background": "light"
          }
        }
      ]
    },
    {
      "cell_type": "code",
      "metadata": {
        "colab": {
          "base_uri": "https://localhost:8080/",
          "height": 309
        },
        "id": "BhIsqOqHvIa1",
        "outputId": "530e7ebf-d9e6-4aa5-c329-f6d942c29bcd"
      },
      "source": [
        "plot_class(6)"
      ],
      "execution_count": 52,
      "outputs": [
        {
          "output_type": "display_data",
          "data": {
            "image/png": "[encoded data removed]",
            "text/plain": [
              "<Figure size 432x288 with 1 Axes>"
            ]
          },
          "metadata": {
            "needs_background": "light"
          }
        }
      ]
    },
    {
      "cell_type": "code",
      "metadata": {
        "colab": {
          "base_uri": "https://localhost:8080/",
          "height": 302
        },
        "id": "6I5imclovJIL",
        "outputId": "fd8b037e-65fd-40d9-dc0b-54f15e7dfe91"
      },
      "source": [
        "plot_class(7)"
      ],
      "execution_count": 53,
      "outputs": [
        {
          "output_type": "display_data",
          "data": {
            "image/png": "[encoded data removed]",
            "text/plain": [
              "<Figure size 432x288 with 1 Axes>"
            ]
          },
          "metadata": {
            "needs_background": "light"
          }
        }
      ]
    },
    {
      "cell_type": "markdown",
      "metadata": {
        "id": "qQhzDJt75w5p"
      },
      "source": [
        "Часто встречаются проблемы с юпитером (класс 7 / 4), есть проблемы при работае в ОС windows (класс 5), есть проблемы с инспекциями кода (класс 3, много слов по коду и импорту)\n",
        "\n",
        "Также есть трудности с докером и дебаггером (классы 1 и 6)"
      ]
    },
    {
      "cell_type": "code",
      "metadata": {
        "id": "sFzL9RjlwXoD"
      },
      "source": [
        ""
      ],
      "execution_count": 53,
      "outputs": []
    },
    {
      "cell_type": "code",
      "metadata": {
        "id": "PG7v9-k2vJ_5"
      },
      "source": [
        "# Обучим аналогично для 2020.3"
      ],
      "execution_count": 54,
      "outputs": []
    },
    {
      "cell_type": "code",
      "metadata": {
        "colab": {
          "base_uri": "https://localhost:8080/"
        },
        "id": "Nx1Aa9EGxj9X",
        "outputId": "6aac7632-459b-48f9-d208-ca8ce150d478"
      },
      "source": [
        "counter = CountVectorizer(stop_words='english', ngram_range=(2, 3), max_df=0.3)\n",
        "X_2020_3 = counter.fit_transform(f_tickets_3[\"head\"].values.astype('U'))\n",
        "counter.get_feature_names_out()"
      ],
      "execution_count": 55,
      "outputs": [
        {
          "output_type": "execute_result",
          "data": {
            "text/plain": [
              "array(['00_add jp', '01 10', '01 10 55', ..., 'zipfile py add',\n",
              "       'zoom editor', 'zoom editor doesn'], dtype=object)"
            ]
          },
          "metadata": {},
          "execution_count": 55
        }
      ]
    },
    {
      "cell_type": "code",
      "metadata": {
        "id": "21EfACbixj0h"
      },
      "source": [
        "lda = LDA(n_components=8, random_state=7)\n",
        "lda.fit(X_2020_3)\n",
        "tickets = lda.transform(X_2020_3)"
      ],
      "execution_count": 56,
      "outputs": []
    },
    {
      "cell_type": "code",
      "metadata": {
        "colab": {
          "base_uri": "https://localhost:8080/"
        },
        "id": "OyZmrC0LxjrZ",
        "outputId": "5d2a625c-063c-4093-f811-772a0c2b106e"
      },
      "source": [
        "for value, code, name, v in zip(tickets.max(axis=0),  f_tickets_3.iloc[tickets.argmax(axis=0)][\"idReadable\"], f_tickets_3.iloc[tickets.argmax(axis=0)]['summary'], f_tickets_3.iloc[tickets.argmax(axis=0)]['Affected versions']):\n",
        "    print(value, code, v, name)"
      ],
      "execution_count": 57,
      "outputs": [
        {
          "output_type": "stream",
          "name": "stdout",
          "text": [
            "0.9801132623074421 PY-45776 ['2020.3'] Analyzing never completes: NPE at com.intellij.psi.util.QualifiedName.matchesPrefix(QualifiedName.java:108)\n",
            "0.984369696788218 PY-47863 ['2020.3'] Allow variables declaration before non-native namespace package declaration line in dunder init\n",
            "0.9824974010161436 PY-47478 ['2020.3'] Launching skeleton generator task can not succeed and times out with docker-compose remote Python interpreter using Docker 20.10.4\n",
            "0.9863278061608026 PY-46887 ['2020.3'] hello harry sir my py charm is not working means coursor is stuck at on one point  it appear very bold I have uninstall and install it 2-3 times but it's not working  please help\n",
            "0.9809728644174681 PY-47481 ['2020.3'] False-positive \"Signature of method ... does not match signature of base method\" when keyword-only argument without default value is used.\n",
            "0.9801122246597967 PY-46410 ['2020.3'] Can't create SSH interpreter: \"File /.pycharm_helpers_5: Permission denied\" if user doesn't have home folder\n",
            "0.9809770019272401 PY-46486 ['2020.3'] Link is not active in \"You need configured Python 2 SDK to render <a href='http://epydoc.sourceforge.net/'>Epydoc</a> docstrings\"\n",
            "0.9809739231201877 PY-45942 ['2020.3'] Need to cut/paste a whole block of code to remove inspection errors\n"
          ]
        }
      ]
    },
    {
      "cell_type": "code",
      "metadata": {
        "colab": {
          "base_uri": "https://localhost:8080/"
        },
        "id": "5lxzTTRx2cEc",
        "outputId": "ee3ddcca-76b7-4fa2-c1d8-058f657c1b51"
      },
      "source": [
        "from collections import defaultdict\n",
        "classes = tickets.argmax(axis=1)\n",
        "classes_count_3 = defaultdict(int)\n",
        "for cls in classes:\n",
        "    classes_count_3[cls] += 1\n",
        "classes_count_3"
      ],
      "execution_count": 58,
      "outputs": [
        {
          "output_type": "execute_result",
          "data": {
            "text/plain": [
              "defaultdict(int, {0: 54, 1: 84, 2: 67, 3: 62, 4: 54, 5: 75, 6: 58, 7: 68})"
            ]
          },
          "metadata": {},
          "execution_count": 58
        }
      ]
    },
    {
      "cell_type": "code",
      "metadata": {
        "id": "7w17SWUuxjiq"
      },
      "source": [
        "words_count = defaultdict(dict)\n",
        "i = 0\n",
        "for t in f_tickets_3[\"head\"].values.astype('U'):\n",
        "    for w in t.split():\n",
        "        w = w.lower().replace(\"/\", \" \").replace(\".\", \" \").replace(\":\", \" \")\n",
        "        w = re.sub('[^a-zA-Z]+', '', w)\n",
        "        if len(w) <= 4:\n",
        "            continue\n",
        "        if w in [\"pycharm\", \"with\", \"step\", \"when\", \"python\", \"problem\", \"will\", \"steps\", \"reproduce\", \"project\", \"import\"]:\n",
        "            continue\n",
        "        if w not in words_count[classes[i]]:\n",
        "            words_count[classes[i]][w] = 1\n",
        "        else:\n",
        "            words_count[classes[i]][w] += 1\n",
        "    i+=1"
      ],
      "execution_count": 59,
      "outputs": []
    },
    {
      "cell_type": "code",
      "metadata": {
        "colab": {
          "base_uri": "https://localhost:8080/"
        },
        "id": "6EhnoeBexjae",
        "outputId": "17e2c366-eeea-4b1e-d785-1c46360c1f98"
      },
      "source": [
        "\n",
        "for i in range(8):\n",
        "    print(f'class {i+1}')\n",
        "    dct = words_count[i]\n",
        "    l = 0\n",
        "    for kv in sorted(dct.items(), key=lambda item: -item[1]):\n",
        "        if l == 10:\n",
        "            break\n",
        "        l+=1\n",
        "        print(kv)\n",
        "    print()"
      ],
      "execution_count": 60,
      "outputs": [
        {
          "output_type": "stream",
          "name": "stdout",
          "text": [
            "class 1\n",
            "('create', 11)\n",
            "('class', 10)\n",
            "('console', 7)\n",
            "('install', 6)\n",
            "('django', 6)\n",
            "('interpreter', 5)\n",
            "('package', 5)\n",
            "('flask', 5)\n",
            "('imagepng', 5)\n",
            "('cannot', 4)\n",
            "\n",
            "class 2\n",
            "('create', 14)\n",
            "('docker', 8)\n",
            "('wrong', 7)\n",
            "('class', 7)\n",
            "('warning', 7)\n",
            "('false', 6)\n",
            "('cannot', 6)\n",
            "('interpreter', 6)\n",
            "('package', 6)\n",
            "('after', 6)\n",
            "\n",
            "class 3\n",
            "('create', 14)\n",
            "('interpreter', 10)\n",
            "('django', 9)\n",
            "('after', 8)\n",
            "('doesnt', 6)\n",
            "('using', 6)\n",
            "('configuration', 5)\n",
            "('debugger', 5)\n",
            "('breakpoint', 5)\n",
            "('allow', 5)\n",
            "\n",
            "class 4\n",
            "('create', 10)\n",
            "('doesnt', 9)\n",
            "('django', 8)\n",
            "('package', 7)\n",
            "('class', 6)\n",
            "('install', 5)\n",
            "('console', 5)\n",
            "('jetbrains', 5)\n",
            "('request', 5)\n",
            "('working', 5)\n",
            "\n",
            "class 5\n",
            "('create', 8)\n",
            "('error', 8)\n",
            "('module', 7)\n",
            "('class', 6)\n",
            "('following', 5)\n",
            "('after', 5)\n",
            "('notebook', 5)\n",
            "('doesnt', 5)\n",
            "('stubs', 5)\n",
            "('remote', 4)\n",
            "\n",
            "class 6\n",
            "('create', 18)\n",
            "('cannot', 8)\n",
            "('windows', 7)\n",
            "('django', 7)\n",
            "('console', 7)\n",
            "('using', 7)\n",
            "('interpreter', 6)\n",
            "('inspection', 6)\n",
            "('output', 6)\n",
            "('after', 5)\n",
            "\n",
            "class 7\n",
            "('create', 9)\n",
            "('interpreter', 6)\n",
            "('module', 6)\n",
            "('typing', 6)\n",
            "('after', 5)\n",
            "('debugger', 4)\n",
            "('using', 4)\n",
            "('extension', 4)\n",
            "('action', 4)\n",
            "('warning', 4)\n",
            "\n",
            "class 8\n",
            "('interpreter', 11)\n",
            "('using', 10)\n",
            "('error', 9)\n",
            "('class', 8)\n",
            "('running', 6)\n",
            "('remote', 6)\n",
            "('editor', 6)\n",
            "('django', 5)\n",
            "('configuration', 5)\n",
            "('package', 5)\n",
            "\n"
          ]
        }
      ]
    },
    {
      "cell_type": "code",
      "metadata": {
        "colab": {
          "base_uri": "https://localhost:8080/",
          "height": 309
        },
        "id": "fBtmcT4TxjSk",
        "outputId": "2107c5a9-5190-4515-c59a-d393ba0d2d7b"
      },
      "source": [
        "plot_class(0)"
      ],
      "execution_count": 61,
      "outputs": [
        {
          "output_type": "display_data",
          "data": {
            "image/png": "[encoded data removed]",
            "text/plain": [
              "<Figure size 432x288 with 1 Axes>"
            ]
          },
          "metadata": {
            "needs_background": "light"
          }
        }
      ]
    },
    {
      "cell_type": "code",
      "metadata": {
        "colab": {
          "base_uri": "https://localhost:8080/",
          "height": 309
        },
        "id": "kaodGCcO0s5R",
        "outputId": "e27f910c-b372-4ede-d6bc-fbebb24acbe9"
      },
      "source": [
        "plot_class(1)"
      ],
      "execution_count": 62,
      "outputs": [
        {
          "output_type": "display_data",
          "data": {
            "image/png": "[encoded data removed]",
            "text/plain": [
              "<Figure size 432x288 with 1 Axes>"
            ]
          },
          "metadata": {
            "needs_background": "light"
          }
        }
      ]
    },
    {
      "cell_type": "code",
      "metadata": {
        "colab": {
          "base_uri": "https://localhost:8080/",
          "height": 322
        },
        "id": "rsdu-h-v0tzU",
        "outputId": "2772c2c8-88be-4678-fa1b-a03fde9e9d27"
      },
      "source": [
        "plot_class(2)"
      ],
      "execution_count": 63,
      "outputs": [
        {
          "output_type": "display_data",
          "data": {
            "image/png": "[encoded data removed]",
            "text/plain": [
              "<Figure size 432x288 with 1 Axes>"
            ]
          },
          "metadata": {
            "needs_background": "light"
          }
        }
      ]
    },
    {
      "cell_type": "code",
      "metadata": {
        "colab": {
          "base_uri": "https://localhost:8080/",
          "height": 299
        },
        "id": "1jGamVux0uiW",
        "outputId": "b632f46d-d8b7-45ce-f4e1-37274e4d6986"
      },
      "source": [
        "plot_class(3)"
      ],
      "execution_count": 64,
      "outputs": [
        {
          "output_type": "display_data",
          "data": {
            "image/png": "[encoded data removed]",
            "text/plain": [
              "<Figure size 432x288 with 1 Axes>"
            ]
          },
          "metadata": {
            "needs_background": "light"
          }
        }
      ]
    },
    {
      "cell_type": "code",
      "metadata": {
        "colab": {
          "base_uri": "https://localhost:8080/",
          "height": 302
        },
        "id": "uNmh0hay0vli",
        "outputId": "909d2895-9323-4327-c5f1-32bd4072c24b"
      },
      "source": [
        "plot_class(4)"
      ],
      "execution_count": 65,
      "outputs": [
        {
          "output_type": "display_data",
          "data": {
            "image/png": "[encoded data removed]",
            "text/plain": [
              "<Figure size 432x288 with 1 Axes>"
            ]
          },
          "metadata": {
            "needs_background": "light"
          }
        }
      ]
    },
    {
      "cell_type": "code",
      "metadata": {
        "colab": {
          "base_uri": "https://localhost:8080/",
          "height": 309
        },
        "id": "SmdA-L0p0wgm",
        "outputId": "6c314e0e-ce40-4d80-d897-612196775446"
      },
      "source": [
        "plot_class(5)"
      ],
      "execution_count": 66,
      "outputs": [
        {
          "output_type": "display_data",
          "data": {
            "image/png": "[encoded data removed]",
            "text/plain": [
              "<Figure size 432x288 with 1 Axes>"
            ]
          },
          "metadata": {
            "needs_background": "light"
          }
        }
      ]
    },
    {
      "cell_type": "code",
      "metadata": {
        "colab": {
          "base_uri": "https://localhost:8080/",
          "height": 309
        },
        "id": "_h49-WsrxjKW",
        "outputId": "8e6ae660-5bc6-4890-ca14-564a8f89d3a8"
      },
      "source": [
        "plot_class(6)"
      ],
      "execution_count": 67,
      "outputs": [
        {
          "output_type": "display_data",
          "data": {
            "image/png": "[encoded data removed]",
            "text/plain": [
              "<Figure size 432x288 with 1 Axes>"
            ]
          },
          "metadata": {
            "needs_background": "light"
          }
        }
      ]
    },
    {
      "cell_type": "code",
      "metadata": {
        "colab": {
          "base_uri": "https://localhost:8080/",
          "height": 322
        },
        "id": "HKCSqdap0yq7",
        "outputId": "160e773a-04e7-4d04-a19d-1de1a2b3e498"
      },
      "source": [
        "plot_class(7)"
      ],
      "execution_count": 68,
      "outputs": [
        {
          "output_type": "display_data",
          "data": {
            "image/png": "[encoded data removed]",
            "text/plain": [
              "<Figure size 432x288 with 1 Axes>"
            ]
          },
          "metadata": {
            "needs_background": "light"
          }
        }
      ]
    },
    {
      "cell_type": "code",
      "metadata": {
        "colab": {
          "base_uri": "https://localhost:8080/",
          "height": 322
        },
        "id": "9mZ95S_ExjCJ",
        "outputId": "82764d0d-1d94-4c08-d269-4dceff76e46e"
      },
      "source": [
        "plot_class(7)"
      ],
      "execution_count": 69,
      "outputs": [
        {
          "output_type": "display_data",
          "data": {
            "image/png": "[encoded data removed]",
            "text/plain": [
              "<Figure size 432x288 with 1 Axes>"
            ]
          },
          "metadata": {
            "needs_background": "light"
          }
        }
      ]
    },
    {
      "cell_type": "markdown",
      "metadata": {
        "id": "6WSjf4SH05AO"
      },
      "source": [
        "Ситуация в целом похожая, Кажется что стало больше проблем с докером, он поднимается вверх по частоте, появились проблемы с дебаггером, его тоже много. В классе 5 появился cython, видимо, перестало что-то собираться в каких-то случаях.\n",
        "\n",
        "\n",
        "Взамен этого пофиксались проблемы с юпитером и проблемы на windows"
      ]
    },
    {
      "cell_type": "markdown",
      "metadata": {
        "id": "AfHSAO_H1fkj"
      },
      "source": [
        "Посмотрим еще на распределение по топикам для 2 релизов, посмотрим, что в целом оно похожее."
      ]
    },
    {
      "cell_type": "code",
      "metadata": {
        "colab": {
          "base_uri": "https://localhost:8080/"
        },
        "id": "b1r0wtN34H5E",
        "outputId": "a7b058fb-dc6c-41fc-f0db-d36265495dac"
      },
      "source": [
        "X_2020_3.shape"
      ],
      "execution_count": 70,
      "outputs": [
        {
          "output_type": "execute_result",
          "data": {
            "text/plain": [
              "(522, 13018)"
            ]
          },
          "metadata": {},
          "execution_count": 70
        }
      ]
    },
    {
      "cell_type": "code",
      "metadata": {
        "colab": {
          "base_uri": "https://localhost:8080/"
        },
        "id": "Gnw5K0Dg4LsM",
        "outputId": "8bbc5720-0e1c-4bee-bed5-43a9805f2955"
      },
      "source": [
        "X_2020_2.shape"
      ],
      "execution_count": 71,
      "outputs": [
        {
          "output_type": "execute_result",
          "data": {
            "text/plain": [
              "(625, 15661)"
            ]
          },
          "metadata": {},
          "execution_count": 71
        }
      ]
    },
    {
      "cell_type": "code",
      "metadata": {
        "colab": {
          "base_uri": "https://localhost:8080/",
          "height": 334
        },
        "id": "vakiMHXE4l8H",
        "outputId": "7ad47351-5277-4b4e-8901-a97e2b5e0ea0"
      },
      "source": [
        "keys1 = []\n",
        "vals1 = []\n",
        "dct = words_count[i]\n",
        "for kv in classes_count_2.items():\n",
        "    keys1.append(kv[0])\n",
        "    vals1.append(kv[1])\n",
        "keys2 = []\n",
        "vals2 = []\n",
        "dct = words_count[i]\n",
        "for kv in classes_count_3.items():\n",
        "    keys2.append(kv[0])\n",
        "    vals2.append(kv[1])\n",
        "\n",
        "import matplotlib.pyplot as plt\n",
        "import numpy as np\n",
        "\n",
        "\n",
        "labels = ['0', '1', '2', '3', '4', '5', '6', '7']\n",
        "men_means = vals1\n",
        "women_means = list(map(lambda x: x, vals2))\n",
        "\n",
        "x = np.arange(len(labels))  # the label locations\n",
        "width = 0.35  # the width of the bars\n",
        "\n",
        "fig, ax = plt.subplots()\n",
        "rects1 = ax.bar(x - width/2, men_means, width, label='2020.2')\n",
        "rects2 = ax.bar(x + width/2, women_means, width, label='2020.3')\n",
        "\n",
        "# Add some text for labels, title and custom x-axis tick labels, etc.\n",
        "ax.set_ylabel('Count')\n",
        "ax.set_title('2020 2/3 compare')\n",
        "ax.set_xticks(x, labels)\n",
        "ax.legend()\n",
        "\n",
        "fig.tight_layout()\n",
        "\n",
        "plt.show()"
      ],
      "execution_count": 72,
      "outputs": [
        {
          "output_type": "stream",
          "name": "stderr",
          "text": [
            "/usr/local/lib/python3.7/dist-packages/ipykernel_launcher.py:32: MatplotlibDeprecationWarning: Passing the minor parameter of set_xticks() positionally is deprecated since Matplotlib 3.2; the parameter will become keyword-only two minor releases later.\n"
          ]
        },
        {
          "output_type": "display_data",
          "data": {
            "image/png": "[encoded data removed]",
            "text/plain": [
              "<Figure size 432x288 with 1 Axes>"
            ]
          },
          "metadata": {
            "needs_background": "light"
          }
        }
      ]
    },
    {
      "cell_type": "markdown",
      "metadata": {
        "id": "XPuwpgHD5RUG"
      },
      "source": [
        "Физически стало меньше тикетов. Видно, что поработали по 4 направлениям, 2-5 классы. Это частично перекрывается с исчезнувшими проблемами, так как напрмиер windows попадала в эти классы."
      ]
    },
    {
      "cell_type": "markdown",
      "metadata": {
        "id": "TeR0cqxI1nmP"
      },
      "source": [
        "Оценка подводных камней:\n",
        "\n",
        "1) Классифицировали на фиксированное число топиков. Никак не оценивалось, на какое число классов надо проводить классификацию. Из-за этого топики могли смешиваться между собой, что желает анализ недостаточно широким\n",
        "\n",
        "2) Некоторые популярные проблемы могут быть зарепорчены одним тикетом с кучей лайков. Без заведения дубликатов. Пользователь мог нагуглить багу и поставить лайк тикету. Из-за этого такие важные попроблемы могли в анализ не попасть.\n",
        "\n",
        "3) Никак не проверялось, насколько вообще классы для версии 2020.2 и 2020.3 коррелируют, выводы только качественные.\n",
        "\n",
        "4) Выводы по тому, какой проблеме соответствует тот или иной топик, не проверялись - надо было бы проанализировать и проверить полученные гипотезы"
      ]
    },
    {
      "cell_type": "code",
      "metadata": {
        "id": "oXEQUTLL4oqV"
      },
      "source": [
        "# "
      ],
      "execution_count": 73,
      "outputs": []
    },
    {
      "cell_type": "code",
      "metadata": {
        "id": "_2xFrTpGxi5u"
      },
      "source": [
        ""
      ],
      "execution_count": 73,
      "outputs": []
    }
  ]
}